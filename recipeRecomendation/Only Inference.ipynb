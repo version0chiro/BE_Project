{
 "cells": [
  {
   "cell_type": "code",
   "execution_count": 7,
   "metadata": {},
   "outputs": [],
   "source": [
    "from sklearn.feature_extraction.text import TfidfVectorizer\n",
    "from functools import reduce\n",
    "from operator import add\n",
    "import pandas as pd\n",
    "import numpy as np\n",
    "import re\n",
    "import spacy\n",
    "import pickle\n"
   ]
  },
  {
   "cell_type": "code",
   "execution_count": 2,
   "metadata": {},
   "outputs": [
    {
     "data": {
      "text/plain": [
       "'0'"
      ]
     },
     "execution_count": 2,
     "metadata": {},
     "output_type": "execute_result"
    }
   ],
   "source": [
    "series = pd.read_csv('tokenized_text.csv', header = None, index_col = 0, squeeze = True)\n",
    "tokenized_text=series.to_list()\n",
    "tokenized_text.pop(0)"
   ]
  },
  {
   "cell_type": "code",
   "execution_count": 3,
   "metadata": {},
   "outputs": [],
   "source": [
    "recipes = pd.read_csv ('tagged_recipes_df.csv')\n",
    "recipes=recipes.drop(['Unnamed: 0'], axis=1)"
   ]
  },
  {
   "cell_type": "code",
   "execution_count": 4,
   "metadata": {},
   "outputs": [],
   "source": [
    "def qweight_array(query_length, qw_array = [1]):\n",
    "    '''Returns descending weights for ranked query ingredients'''\n",
    "    if query_length > 1:\n",
    "        to_split = qw_array.pop()\n",
    "        split = to_split/2\n",
    "        qw_array.extend([split, split])\n",
    "        return qweight_array(query_length - 1, qw_array)\n",
    "    else:\n",
    "        return np.array(qw_array)\n",
    "\n",
    "def ranked_query(query):\n",
    "    '''Called if query ingredients are ranked in order of importance.\n",
    "    Weights and adds each ranked query ingredient vector.'''\n",
    "    query = [[q] for q in query]      # place words in seperate documents\n",
    "    q_vecs = [vectorizer.transform(q) for q in query] \n",
    "    qw_array = qweight_array(len(query),[1])\n",
    "    q_weighted_vecs = q_vecs * qw_array\n",
    "    q_final_vector = reduce(np.add,q_weighted_vecs)\n",
    "    return q_final_vector\n",
    "\n",
    "def overall_scores(query_vector):\n",
    "    '''Calculates Query Similarity Scores against recipe title, instructions, and keywords.\n",
    "    Then returns weighted averages of similarities for each recipe.'''\n",
    "    final_scores = title_tfidf*query_vector.T*w_title\n",
    "    final_scores += text_tfidf*query_vector.T*w_text\n",
    "    final_scores += tags_tfidf*query_vector.T*w_categories\n",
    "    return final_scores\n",
    "\n",
    "def print_recipes(index, query, recipe_range):\n",
    "    '''Prints recipes according to query similary ranks'''\n",
    "    print('Search Query: {}\\n'.format(query))\n",
    "    for i, index in enumerate(index, recipe_range[0]):\n",
    "        print('Recipe Rank: {}\\t'.format(i+1),recipes.loc[index, 'title'],'\\n')\n",
    "        print('Ingredients:\\n{}\\n '.format(recipes.loc[index, 'ingredient_text']))\n",
    "        print('Instructions:\\n{}\\n'.format(recipes.loc[index, 'instructions']))\n",
    "        \n",
    "def Search_Recipes(query, query_ranked=False, recipe_range=(0,5)):\n",
    "    '''Master Recipe Search Function'''\n",
    "    if query_ranked == True:\n",
    "        q_vector = ranked_query(query)\n",
    "    else:\n",
    "        q_vector = vectorizer.transform([' '.join(query)])\n",
    "    recipe_scores = overall_scores(q_vector)\n",
    "    sorted_index = pd.Series(recipe_scores.toarray().T[0]).sort_values(ascending = False)[recipe_range[0]:recipe_range[1]].index\n",
    "    return print_recipes(sorted_index, query, recipe_range)"
   ]
  },
  {
   "cell_type": "code",
   "execution_count": 5,
   "metadata": {},
   "outputs": [],
   "source": [
    "# Creating TF-IDF Matrices and recalling text dependencies\n",
    "\n",
    "'''import text_tokenized.csv here'''\n",
    "# print (df)\n",
    "# TF-IDF vectorizer instance\n",
    "vectorizer = TfidfVectorizer(lowercase = True,\n",
    "                            ngram_range = (1,1))\n",
    "\n",
    "text_tfidf = vectorizer.fit_transform(tokenized_text)\n",
    "title_tfidf = vectorizer.transform(recipes['title'])\n",
    "# text_tfidf    <== Variable with recipe ingredients and instructions\n",
    "tags_tfidf = vectorizer.transform(recipes['tags'].values.astype('U'))\n",
    "# recipes   <== DataFrame; For indexing and printing recipes\n",
    "\n",
    "# Query Similarity Weights\n",
    "w_title = .2\n",
    "w_text = .3\n",
    "w_categories = .5"
   ]
  },
  {
   "cell_type": "code",
   "execution_count": 6,
   "metadata": {},
   "outputs": [
    {
     "name": "stdout",
     "output_type": "stream",
     "text": [
      "Search Query: ['sugar']\n",
      "\n",
      "Recipe Rank: 1\t Sugar Syrup  \n",
      "\n",
      "Ingredients:\n",
      "1/2 cup superfine granulated sugar; 1/2 cup water\n",
      " \n",
      "Instructions:\n",
      "Stir together sugar and water until sugar has dissolved.\n",
      "Stir together sugar and water until sugar has dissolved.\n",
      "\n",
      "Recipe Rank: 2\t Sugar Brittle \n",
      "\n",
      "Ingredients:\n",
      "1/3 cup turbinado sugar, such as Sugar in the Raw\n",
      " \n",
      "Instructions:\n",
      "Heat a 10-inch nonstick skillet over medium heat. Add the sugar and cook, stirring occasionally, until the sugar melts, about 5 minutes. Pour the sugar onto a parchment paper-lined baking sheet and allow to cool, 5 to 10 minutes (sugar will be hot). When cool enough to handle, crumble into small pieces.\n",
      "\n",
      "Recipe Rank: 3\t Lemon Sugar \n",
      "\n",
      "Ingredients:\n",
      "3 lemons; 2 cups sugar\n",
      " \n",
      "Instructions:\n",
      "Using a citrus zester, remove the zest from all of the lemons. (Alternatively, using a paring knife or a vegetable peeler, remove the zest, then scrape as much of the bitter white pith off as possible.) Roughly chop zest; transfer to the bowl of a food processor fitted with blade attachment.\n",
      "Add 1 cup sugar to the zest in the food processor. Pulse until zest is finely ground, about 3 minutes.\n",
      "Transfer the ground mixture to a medium bowl. Add remaining cup sugar, and toss until evenly mixed.\n",
      "Spread the lemon sugar on a baking pan, and let sit at room temperature until dry, about 1 hour. Store the sugar in an airtight container in a cool, dry place for up to 1 month.\n",
      "\n"
     ]
    }
   ],
   "source": [
    "## This is the main query for the algorithm\n",
    "query = ['sugar']\n",
    "Search_Recipes(query, query_ranked=True, recipe_range=(0,3))"
   ]
  },
  {
   "cell_type": "code",
   "execution_count": 9,
   "metadata": {},
   "outputs": [
    {
     "data": {
      "text/plain": [
       "['first_in', 'second in', 'third__in']"
      ]
     },
     "execution_count": 9,
     "metadata": {},
     "output_type": "execute_result"
    }
   ],
   "source": [
    "# testing zone\n",
    "a=\"first_in&&second in&&third__in\"\n",
    "a.split(\"&&\")"
   ]
  },
  {
   "cell_type": "code",
   "execution_count": null,
   "metadata": {},
   "outputs": [],
   "source": []
  }
 ],
 "metadata": {
  "kernelspec": {
   "display_name": "Python 3",
   "language": "python",
   "name": "python3"
  },
  "language_info": {
   "codemirror_mode": {
    "name": "ipython",
    "version": 3
   },
   "file_extension": ".py",
   "mimetype": "text/x-python",
   "name": "python",
   "nbconvert_exporter": "python",
   "pygments_lexer": "ipython3",
   "version": "3.6.12"
  }
 },
 "nbformat": 4,
 "nbformat_minor": 4
}
